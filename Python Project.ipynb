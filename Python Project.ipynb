{
 "cells": [
  {
   "attachments": {
    "logo%201.jfif": {
     "image/jpeg": "[encoded data removed]"
    }
   },
   "cell_type": "markdown",
   "id": "57eb7d71",
   "metadata": {},
   "source": [
    "![logo%201.jfif](attachment:logo%201.jfif)"
   ]
  },
  {
   "cell_type": "markdown",
   "id": "3291c812",
   "metadata": {},
   "source": [
    "<i><u><h1><center>Python Project</center></h1></u></i>\n",
    "<i><h1>Time Zone Convertor</h1></i>\n",
    "<h1>By:</h1>\n",
    "\n",
    "<h1>Jerin J Abraham</h1>\n",
    "<h1>Naga Sathvik</h1>\n",
    "<h1>viswajith</h1>\n",
    "<h1>lokesh</h1>"
   ]
  },
  {
   "cell_type": "markdown",
   "id": "c03e80c1",
   "metadata": {},
   "source": [
    "### Introduction:\n",
    "\n",
    "### Timezone is defined as the standard time depending on the geographical representation of that place. In other words, timezone refers to the local time of a particular region based on the earth's rotation. It is defined in UTC (Coordinated Universal Time), the standard against which the world's region-based time is coordinated.\n",
    "\n",
    "### For Example - UTC in Singapore is 2.5 hours ahead of India or timezone in the North and is either 5 or 6 hours behind and represented as UTC-5 or UTC-6 based on the day light. Let's see the following table of different timezones across the world."
   ]
  },
  {
   "cell_type": "markdown",
   "id": "2ec91e07",
   "metadata": {},
   "source": [
    "### We have imported datetime,pytz,timezone libraries to get the time in various regions."
   ]
  },
  {
   "cell_type": "code",
   "execution_count": 1,
   "id": "ba036438",
   "metadata": {},
   "outputs": [],
   "source": [
    "from datetime import datetime\n",
    "from pytz import timezone\n",
    "\n",
    "fmt = \"%Y-%m-%d-%H:%M:%S %Z%z\"\n",
    "\n",
    "\n"
   ]
  },
  {
   "cell_type": "markdown",
   "id": "f842b3e7",
   "metadata": {},
   "source": [
    "### Current Time:"
   ]
  },
  {
   "cell_type": "code",
   "execution_count": 2,
   "id": "9cdffea4",
   "metadata": {},
   "outputs": [
    {
     "name": "stdout",
     "output_type": "stream",
     "text": [
      "UTC : 2022-11-27 10:34:18.375144+00:00\n"
     ]
    }
   ],
   "source": [
    "##current time in UTC\n",
    "now_utc = datetime.now(timezone('UTC'))\n",
    "print('UTC :', now_utc)"
   ]
  },
  {
   "cell_type": "markdown",
   "id": "09f5b465",
   "metadata": {},
   "source": [
    "### Time in Hawaii:"
   ]
  },
  {
   "cell_type": "code",
   "execution_count": 3,
   "id": "27a510b9",
   "metadata": {},
   "outputs": [
    {
     "name": "stdout",
     "output_type": "stream",
     "text": [
      "Hawaii : 2022-11-27 00:34:18.375144-10:00\n"
     ]
    }
   ],
   "source": [
    "## time in EST\n",
    "now_hawaii = now_utc.astimezone(timezone('US/Hawaii'))\n",
    "print('Hawaii :',now_hawaii)"
   ]
  },
  {
   "cell_type": "markdown",
   "id": "23b6a59d",
   "metadata": {},
   "source": [
    "### Time in Budapest:"
   ]
  },
  {
   "cell_type": "code",
   "execution_count": 4,
   "id": "3ddbb0ed",
   "metadata": {},
   "outputs": [
    {
     "name": "stdout",
     "output_type": "stream",
     "text": [
      "Budapest : 2022-11-27 11:34:18.375144+01:00\n"
     ]
    }
   ],
   "source": [
    "## time in berlin\n",
    "now_budapest = now_utc.astimezone(timezone('Europe/Budapest'))\n",
    "print('Budapest :',now_budapest)"
   ]
  },
  {
   "cell_type": "markdown",
   "id": "45ab4de8",
   "metadata": {},
   "source": [
    "### Time in Kiev"
   ]
  },
  {
   "cell_type": "code",
   "execution_count": 5,
   "id": "50027fdf",
   "metadata": {},
   "outputs": [
    {
     "name": "stdout",
     "output_type": "stream",
     "text": [
      "Kiev : 2022-11-27 12:34:18.375144+02:00\n"
     ]
    }
   ],
   "source": [
    "# time in london\n",
    "now_kiev = now_utc.astimezone(timezone('Europe/Kiev'))\n",
    "print('Kiev :',now_kiev)"
   ]
  },
  {
   "cell_type": "markdown",
   "id": "7ead9016",
   "metadata": {},
   "source": [
    "### Time in Kolkata:"
   ]
  },
  {
   "cell_type": "code",
   "execution_count": 6,
   "id": "f3978c22",
   "metadata": {},
   "outputs": [
    {
     "name": "stdout",
     "output_type": "stream",
     "text": [
      "Kolkata : 2022-11-27 16:04:18.375144+05:30\n"
     ]
    }
   ],
   "source": [
    "# time in Kolkata\n",
    "now_kolkata = now_utc.astimezone(timezone('Asia/Kolkata'))\n",
    "print('Kolkata :',now_kolkata)"
   ]
  },
  {
   "cell_type": "markdown",
   "id": "4bf8870f",
   "metadata": {},
   "source": [
    "### Time in Yakutsk:"
   ]
  },
  {
   "cell_type": "code",
   "execution_count": 7,
   "id": "b11c6203",
   "metadata": {},
   "outputs": [
    {
     "name": "stdout",
     "output_type": "stream",
     "text": [
      "Yakutsk : 2022-11-27 19:34:18.375144+09:00\n"
     ]
    }
   ],
   "source": [
    "# time in Shanghai\n",
    "now_yakutsk = now_utc.astimezone(timezone('Asia/Yakutsk'))\n",
    "print('Yakutsk :',now_yakutsk)"
   ]
  },
  {
   "cell_type": "markdown",
   "id": "8da40f5d",
   "metadata": {},
   "source": [
    "### Time in Sydney:"
   ]
  },
  {
   "cell_type": "code",
   "execution_count": 8,
   "id": "f29cb083",
   "metadata": {},
   "outputs": [
    {
     "name": "stdout",
     "output_type": "stream",
     "text": [
      "Sydney : 2022-11-27 21:34:18.375144+11:00\n"
     ]
    }
   ],
   "source": [
    "# time in Sydney\n",
    "now_sydney = now_utc.astimezone(timezone('Australia/Sydney'))\n",
    "print('Sydney :',now_sydney)"
   ]
  },
  {
   "cell_type": "markdown",
   "id": "783ca69a",
   "metadata": {},
   "source": [
    "### Time in Johannesburg:"
   ]
  },
  {
   "cell_type": "code",
   "execution_count": 9,
   "id": "20760e34",
   "metadata": {},
   "outputs": [
    {
     "name": "stdout",
     "output_type": "stream",
     "text": [
      "Johannesburg : 2022-11-27 12:34:18.375144+02:00\n"
     ]
    }
   ],
   "source": [
    "# time in Johannesburg\n",
    "now_Johannesburg = now_utc.astimezone(timezone('Africa/Johannesburg'))\n",
    "print('Johannesburg :',now_Johannesburg)"
   ]
  },
  {
   "cell_type": "markdown",
   "id": "43bf7bb8",
   "metadata": {},
   "source": [
    "### Scope of Improvement:\n",
    "### We can also use other libraries to get different outputs and also modify the codes to get the time in other time zones given by the user.\n"
   ]
  },
  {
   "cell_type": "markdown",
   "id": "718e19fb",
   "metadata": {},
   "source": [
    "### Application:\n",
    "### We can use this to see time in different zones."
   ]
  }
 ],
 "metadata": {
  "kernelspec": {
   "display_name": "Python 3 (ipykernel)",
   "language": "python",
   "name": "python3"
  },
  "language_info": {
   "codemirror_mode": {
    "name": "ipython",
    "version": 3
   },
   "file_extension": ".py",
   "mimetype": "text/x-python",
   "name": "python",
   "nbconvert_exporter": "python",
   "pygments_lexer": "ipython3",
   "version": "3.9.12"
  }
 },
 "nbformat": 4,
 "nbformat_minor": 5
}

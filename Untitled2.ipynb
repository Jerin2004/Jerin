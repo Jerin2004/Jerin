{
  "nbformat": 4,
  "nbformat_minor": 0,
  "metadata": {
    "colab": {
      "provenance": [],
      "authorship_tag": "ABX9TyPYcGmil+zLb0yln+W5xykh",
      "include_colab_link": true
    },
    "kernelspec": {
      "name": "python3",
      "display_name": "Python 3"
    },
    "language_info": {
      "name": "python"
    }
  },
  "cells": [
    {
      "cell_type": "markdown",
      "metadata": {
        "id": "view-in-github",
        "colab_type": "text"
      },
      "source": [
        "<a href=\"https://colab.research.google.com/github/Jerin2004/Jerin/blob/main/Untitled2.ipynb\" target=\"_parent\"><img src=\"https://colab.research.google.com/assets/colab-badge.svg\" alt=\"Open In Colab\"/></a>"
      ]
    },
    {
      "cell_type": "markdown",
      "source": [
        "FUNCTION\n"
      ],
      "metadata": {
        "id": "TTKH_Tw4ZN75"
      }
    },
    {
      "cell_type": "code",
      "source": [
        "# Simple Function\n",
        "def add_number(a,b):\n",
        "  \"\"\"Function to add two numbers\"\"\"\n",
        "  return a+b\n",
        "\n",
        "  # Calling the function\n",
        "  print(add_number(1,2))"
      ],
      "metadata": {
        "id": "oiaj0NgFZP6s"
      },
      "execution_count": 1,
      "outputs": []
    },
    {
      "cell_type": "code",
      "source": [
        "# Function with Variable-Length Arguments\n",
        "def sum_all(*args):\n",
        "  \"\"\"Function to sum all given arguments\"\"\"\n",
        "  return sum(args)\n",
        "\n",
        "  # Calling the function\n",
        "  print(sum_all(1,2,3,4,5))"
      ],
      "metadata": {
        "id": "PNgujZbvZp4C"
      },
      "execution_count": 2,
      "outputs": []
    },
    {
      "cell_type": "code",
      "source": [
        "# Function with Keyword Arguments\n",
        "def display_info(**kwargs):\n",
        "  \"\"\"Function to display information\"\"\"\n",
        "  for key, value in kwargs.items():\n",
        "    print(f\"{key}: {value}\")\n",
        "\n",
        "  # Calling the function\n",
        "  display_info(name=\"John\", age=25, city=\"New York\")"
      ],
      "metadata": {
        "id": "lkQ75xBlZxVZ"
      },
      "execution_count": 7,
      "outputs": []
    },
    {
      "cell_type": "code",
      "source": [
        "# Higher-Order Function\n",
        "def apply_function(func, x,y):\n",
        "  \"\"\"Function to apply a function to two arguments\"\"\"\n",
        "  return func(x,y)"
      ],
      "metadata": {
        "id": "Y0TvP401bvMK"
      },
      "execution_count": 6,
      "outputs": []
    },
    {
      "cell_type": "markdown",
      "source": [
        "**Lambda Expression**"
      ],
      "metadata": {
        "id": "3l8posZpcBvj"
      }
    },
    {
      "cell_type": "code",
      "source": [
        "# Simple Lambda Function\n",
        "square = lambda x: x * x\n",
        "\n",
        "# Calling the lambda function\n",
        "print(square(5))"
      ],
      "metadata": {
        "colab": {
          "base_uri": "https://localhost:8080/"
        },
        "id": "21Hc2WgZcFQ2",
        "outputId": "e01db564-379f-4502-95a7-e8aa4020ebd2"
      },
      "execution_count": 8,
      "outputs": [
        {
          "output_type": "stream",
          "name": "stdout",
          "text": [
            "25\n"
          ]
        }
      ]
    },
    {
      "cell_type": "code",
      "source": [
        "# Lambda Function in 'map'\n",
        "number = [1,2,3,4,5]\n",
        "square = list(map(lambda x: x * x, number))\n",
        "print(square)"
      ],
      "metadata": {
        "colab": {
          "base_uri": "https://localhost:8080/"
        },
        "id": "YSCHnys9cbeH",
        "outputId": "1ecb1b65-b298-479b-f01a-46cd53be0d3f"
      },
      "execution_count": 9,
      "outputs": [
        {
          "output_type": "stream",
          "name": "stdout",
          "text": [
            "[1, 4, 9, 16, 25]\n"
          ]
        }
      ]
    },
    {
      "cell_type": "code",
      "source": [
        "# Lambda Function in 'filter\n",
        "numbers = [1,2,3,4,5]\n",
        "even_numbers = list(filter(lambda x: x % 2 == 0, numbers))\n",
        "print(even_numbers)"
      ],
      "metadata": {
        "colab": {
          "base_uri": "https://localhost:8080/"
        },
        "id": "fSIiUizJcp-f",
        "outputId": "646690db-477c-46e8-eacf-1e6f6a992ba8"
      },
      "execution_count": 10,
      "outputs": [
        {
          "output_type": "stream",
          "name": "stdout",
          "text": [
            "[2, 4]\n"
          ]
        }
      ]
    },
    {
      "cell_type": "code",
      "source": [
        "#Lambda Function in 'sorted'\n",
        "students = [(\"John\", 25), (\"Alice\", 30), (\"Bob\", 20)]\n",
        "sorted_students = sorted(students, key=lambda x: x[1])\n",
        "print(sorted_students)"
      ],
      "metadata": {
        "colab": {
          "base_uri": "https://localhost:8080/"
        },
        "id": "1OzZUDCscwrK",
        "outputId": "c0ff7fbd-45e8-4088-a557-62c2c946302d"
      },
      "execution_count": 11,
      "outputs": [
        {
          "output_type": "stream",
          "name": "stdout",
          "text": [
            "[('Bob', 20), ('John', 25), ('Alice', 30)]\n"
          ]
        }
      ]
    },
    {
      "cell_type": "markdown",
      "source": [
        "**Error Handling**"
      ],
      "metadata": {
        "id": "UR6oaJYyc8fr"
      }
    },
    {
      "cell_type": "code",
      "source": [
        "# Basic Try-Except Block\n",
        "try:\n",
        "  result = 10 / 0\n",
        "except ZeroDivisionError:\n",
        "  print(\"Error: Division by zero is not allowed.\")"
      ],
      "metadata": {
        "colab": {
          "base_uri": "https://localhost:8080/"
        },
        "id": "NUJs7kswdACV",
        "outputId": "0ef6fcfb-dd7d-40b7-f849-39b97298b9e0"
      },
      "execution_count": 12,
      "outputs": [
        {
          "output_type": "stream",
          "name": "stdout",
          "text": [
            "Error: Division by zero is not allowed.\n"
          ]
        }
      ]
    },
    {
      "cell_type": "code",
      "source": [
        "# Try-Except-Else Block\n",
        "try:\n",
        "  result = 10 / 2\n",
        "except ZeroDivisionError:\n",
        "  print(\"Error: Division by zero is not allowed.\")\n",
        "else:\n",
        "  print(\"Result:\", result)"
      ],
      "metadata": {
        "colab": {
          "base_uri": "https://localhost:8080/"
        },
        "id": "bDmg-JlHdUZh",
        "outputId": "9f407d8a-87dc-430c-9579-f5faff07c1ce"
      },
      "execution_count": 13,
      "outputs": [
        {
          "output_type": "stream",
          "name": "stdout",
          "text": [
            "Result: 5.0\n"
          ]
        }
      ]
    },
    {
      "cell_type": "code",
      "source": [
        "# Try-Except-Finally Block\n",
        "try:\n",
        "  result = 10 / 0\n",
        "except ZeroDivisionError:\n",
        "  print(\"Error: Division by zero is not allowed.\")\n",
        "finally:\n",
        "  print(\"Execution completed.\")"
      ],
      "metadata": {
        "colab": {
          "base_uri": "https://localhost:8080/"
        },
        "id": "LtokIdgpdzkY",
        "outputId": "c9ee811d-0e7e-4ebe-b925-dcc4835634cf"
      },
      "execution_count": 15,
      "outputs": [
        {
          "output_type": "stream",
          "name": "stdout",
          "text": [
            "Error: Division by zero is not allowed.\n",
            "Execution completed.\n"
          ]
        }
      ]
    },
    {
      "cell_type": "code",
      "source": [
        "# handling Multiple Exception\n",
        "try:\n",
        "  result = 10 / 0\n",
        "except ZeroDivisionError:\n",
        "  print(\"Error: Division by zero is not allowed.\")\n",
        "except TypeError:\n",
        "  print(\"Error: Invalid operation.\")"
      ],
      "metadata": {
        "colab": {
          "base_uri": "https://localhost:8080/"
        },
        "id": "Bw2ufWvvd4X4",
        "outputId": "5d3c9f03-e249-4fe0-ffb9-bdb83a69a56a"
      },
      "execution_count": 16,
      "outputs": [
        {
          "output_type": "stream",
          "name": "stdout",
          "text": [
            "Error: Division by zero is not allowed.\n"
          ]
        }
      ]
    },
    {
      "cell_type": "code",
      "source": [
        "# Raising Exception\n",
        "def validate_age(age):\n",
        "  if age < 0:\n",
        "    raise ValueError(\"Age cannot be negative.\")"
      ],
      "metadata": {
        "id": "5aAOtFpQeCXF"
      },
      "execution_count": 17,
      "outputs": []
    },
    {
      "cell_type": "code",
      "source": [],
      "metadata": {
        "id": "KDbHnADWeKHW"
      },
      "execution_count": null,
      "outputs": []
    }
  ]
}